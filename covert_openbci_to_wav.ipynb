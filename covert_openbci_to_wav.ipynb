{
 "cells": [
  {
   "cell_type": "markdown",
   "metadata": {},
   "source": [
    "\"\"\"\n",
    "We now have two datasets, one is the pygame which matches labels and timestamp,\n",
    "the other is the openbci EMG data which is 200sr with timestamp. The two programs are launched\n",
    "almost simultaneously.\n",
    "We want to use this data to create a training dataset turning the voltage of each electrode\n",
    "into spectrogram and use CNN to recognize these images. \n",
    "\"\"\""
   ]
  },
  {
   "cell_type": "code",
   "execution_count": 51,
   "metadata": {},
   "outputs": [],
   "source": [
    "import os\n",
    "import pandas as pd\n",
    "from datetime import datetime\n",
    "import scipy.io.wavfile\n",
    "import numpy as np\n",
    "\n",
    "pygame_file = \"./pygame_data/outputs.csv\"\n",
    "openbci_file = \"./openbci_data/data.txt\"\n",
    "new_openbci = \"./openbci_data/new_data.txt\"\n",
    "openbci_columns = \"id,ch0,ch1,ch2,ch3,accel0,accel1,accel2,timestamp\""
   ]
  },
  {
   "cell_type": "code",
   "execution_count": 52,
   "metadata": {},
   "outputs": [],
   "source": [
    "temp = open(openbci_file,'r')\n",
    "data_str = temp.readlines()\n",
    "temp.close()\n",
    "\n",
    "cut_data = data_str[6:-1] # delete last row being NA\n",
    "columns = openbci_columns + \"\\n\"\n",
    "\n",
    "new = open(new_openbci, \"w\")\n",
    "new.writelines(columns)\n",
    "new.writelines(cut_data)\n",
    "new.close()"
   ]
  },
  {
   "cell_type": "code",
   "execution_count": 53,
   "metadata": {},
   "outputs": [],
   "source": [
    "pygame_data = pd.read_csv(pygame_file, sep=\",\")\n",
    "openbci_data = pd.read_csv(new_openbci, sep=\",\")"
   ]
  },
  {
   "cell_type": "code",
   "execution_count": 54,
   "metadata": {
    "scrolled": true
   },
   "outputs": [],
   "source": [
    "openbci_data = openbci_data.drop(columns=[\"accel0\",\"accel1\",\"accel2\"])"
   ]
  },
  {
   "cell_type": "code",
   "execution_count": 55,
   "metadata": {},
   "outputs": [
    {
     "name": "stderr",
     "output_type": "stream",
     "text": [
      "/usr/local/lib/python3.6/site-packages/ipykernel_launcher.py:3: SettingWithCopyWarning: \n",
      "A value is trying to be set on a copy of a slice from a DataFrame.\n",
      "Try using .loc[row_indexer,col_indexer] = value instead\n",
      "\n",
      "See the caveats in the documentation: http://pandas.pydata.org/pandas-docs/stable/indexing.html#indexing-view-versus-copy\n",
      "  This is separate from the ipykernel package so we can avoid doing imports until\n"
     ]
    }
   ],
   "source": [
    "new_pygame = pygame_data.iloc[5:]\n",
    "value_to_minus = new_pygame.iloc[0]['timeStamp']\n",
    "new_pygame['timeStamp'] = new_pygame['timeStamp'] - value_to_minus\n",
    "new_pygame = new_pygame.drop(columns=\"keyPressed\")\n"
   ]
  },
  {
   "cell_type": "code",
   "execution_count": 58,
   "metadata": {},
   "outputs": [],
   "source": [
    "def time2millisec(timestamp):\n",
    "    split_data = timestamp.split(':')\n",
    "    return (int(split_data[0]) * 60 * 60 + \n",
    "            int(split_data[1]) * 60 + \n",
    "            float(split_data[2])) * 1000\n",
    "\n",
    "begin_data = openbci_data['timestamp'][0]\n",
    "begin_millisec = time2millisec(begin_data)\n",
    "\n",
    "openbci_data['timestamp'] = openbci_data.timestamp.apply(time2millisec) - begin_millisec"
   ]
  },
  {
   "cell_type": "code",
   "execution_count": 64,
   "metadata": {},
   "outputs": [],
   "source": [
    "# def series2_2darray(array, sample_rate, dataset_count):\n",
    "#     delete_nb = dataset_count % sample_rate\n",
    "#     array = array[:-delete_nb]\n",
    "#     size = (dataset_count - delete_nb) / sample_rate\n",
    "#     split_array = np.split(array, size)\n",
    "#     return np.array(split_array)\n",
    "\n",
    "ch0 = openbci_data['ch0']\n",
    "ch1 = openbci_data['ch1']\n",
    "ch2 = openbci_data['ch2']\n",
    "ch3 = openbci_data['ch3']\n",
    "\n",
    "ch0_array = ch0.values\n",
    "ch1_array = ch1.values\n",
    "ch2_array = ch2.values\n",
    "ch3_array = ch3.values"
   ]
  },
  {
   "cell_type": "code",
   "execution_count": 68,
   "metadata": {},
   "outputs": [],
   "source": [
    "scipy.io.wavfile.write('./openbci_to_wav/ch0.wav', 201, ch0)\n",
    "scipy.io.wavfile.write('./openbci_to_wav/ch1.wav', 201, ch1)\n",
    "scipy.io.wavfile.write('./openbci_to_wav/ch2.wav', 201, ch2)\n",
    "scipy.io.wavfile.write('./openbci_to_wav/ch3.wav', 201, ch3)\n",
    "\n",
    "# turn the channel data into one wav file according to channel"
   ]
  },
  {
   "cell_type": "code",
   "execution_count": null,
   "metadata": {},
   "outputs": [],
   "source": []
  }
 ],
 "metadata": {
  "kernelspec": {
   "display_name": "Python 3",
   "language": "python",
   "name": "python3"
  },
  "language_info": {
   "codemirror_mode": {
    "name": "ipython",
    "version": 3
   },
   "file_extension": ".py",
   "mimetype": "text/x-python",
   "name": "python",
   "nbconvert_exporter": "python",
   "pygments_lexer": "ipython3",
   "version": "3.6.4"
  }
 },
 "nbformat": 4,
 "nbformat_minor": 2
}
